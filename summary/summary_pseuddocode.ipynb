{
 "metadata": {
  "language_info": {
   "codemirror_mode": {
    "name": "ipython",
    "version": 3
   },
   "file_extension": ".py",
   "mimetype": "text/x-python",
   "name": "python",
   "nbconvert_exporter": "python",
   "pygments_lexer": "ipython3",
   "version": "3.7.9-final"
  },
  "orig_nbformat": 2,
  "kernelspec": {
   "name": "python3",
   "display_name": "Python 3.7.9 64-bit ('Pandemics': conda)",
   "metadata": {
    "interpreter": {
     "hash": "bb7966aca5b9fc14511bbf201f0548cc70f99052f45c746f9d637a8f88e745d3"
    }
   }
  }
 },
 "nbformat": 4,
 "nbformat_minor": 2,
 "cells": [
  {
   "cell_type": "code",
   "execution_count": 2,
   "metadata": {},
   "outputs": [
    {
     "output_type": "stream",
     "name": "stdout",
     "text": [
      "2\n"
     ]
    }
   ],
   "source": [
    "l = [1,2,3]\n",
    "l[0] += 1\n",
    "print(l[0])"
   ]
  },
  {
   "cell_type": "code",
   "execution_count": 1,
   "metadata": {},
   "outputs": [],
   "source": [
    "import pandas as pd \n",
    "import networkx as nx \n"
   ]
  },
  {
   "cell_type": "code",
   "execution_count": 2,
   "metadata": {},
   "outputs": [],
   "source": [
    "def generate_summary_data_dict(filepath):\n",
    "\n",
    "    '''\n",
    "    Creates a master data dictionary to summarize all attribute sets \n",
    "    \n",
    "    for each attribute set, creates a network storing introducing countries and years of introduction, used to create derivative summary data contained in returned \n",
    "        summary_data dict\n",
    "\n",
    "    Parameters:\n",
    "    ____________\n",
    "    filepath: the filepath to the folder containing header.csv : str\n",
    "\n",
    "    Returns:\n",
    "    summary_data : dict - a flowchart for better understanding the contents of summary_data is availible at (####SUMMARY FLOWCHART LOCATION###)\n",
    "        a dictionarary containing:\n",
    "            subdictionaies for each attribute set that contain: \n",
    "                network : dict \n",
    "                    contains a networkx graph of all runs in attribute set and a dict storing network statistics\n",
    "                cartographic : dict\n",
    "                    contains lists of ISO codes and paired data for drawing maps in dashboard\n",
    "                aggregate : dict \n",
    "                    contains lists of introduction times, number of introduced countries and number of introductions per timestep for creating aggregate graph in dashboard\n",
    "                general : dict\n",
    "                    contains general summary information for direct interaction with model, ABC etc\n",
    "\n",
    "\n",
    "    '''\n",
    "\n",
    "\n",
    "    header_path = os.path.join(filepath, \"header.csv\")\n",
    "    header = pd.read_csv(header_path)\n",
    "    country_codes_dict = country_codes()\n",
    "\n",
    "    attr_list = literal_eval(\n",
    "        header[header.attributes.str.contains(\"run_prefix\")].values[0, 2]\n",
    "    )\n",
    "    attr_num = 0\n",
    "    for attr in attr_list:\n",
    "\n",
    "        summary_dict = {}\n",
    "        G = nx.Graph()\n",
    "        \n",
    "\n",
    "\n",
    "\n",
    "\n",
    "\n",
    "\n",
    "\n",
    "    #Graph\n",
    "\n",
    "    #Carto_preprocess\n",
    "\n",
    "    #Aggregte_preprocess\n",
    "\n",
    "\n"
   ]
  },
  {
   "cell_type": "code",
   "execution_count": null,
   "metadata": {},
   "outputs": [],
   "source": [
    "def generate_country_dict():\n",
    "    country_dict = {}\n",
    "    country_dict['ISO'] = row['ISO']\n",
    "    country_dict['introduced'] = False\n",
    "    country_dict['num_introductions'] = 0\n",
    "    country_dict['fi_countries'] = []\n",
    "    country_dict['fi_years'] = []\n",
    "    country_dict['all_intro_countries'] = []\n",
    "    country_dict['all_intro_years'] = []\n",
    "    return country_dict\n",
    "\n",
    "            \n",
    "          \n"
   ]
  },
  {
   "cell_type": "code",
   "execution_count": 5,
   "metadata": {},
   "outputs": [
    {
     "output_type": "execute_result",
     "data": {
      "text/plain": [
       "NodeView(('foo', 'bar'))"
      ]
     },
     "metadata": {},
     "execution_count": 5
    }
   ],
   "source": [
    "import networkx as nx \n",
    "G = nx.DiGraph()\n",
    "G.add_edge('foo', 'bar')\n",
    "G.nodes()"
   ]
  },
  {
   "cell_type": "code",
   "execution_count": null,
   "metadata": {},
   "outputs": [],
   "source": []
  },
  {
   "cell_type": "code",
   "execution_count": 1,
   "metadata": {},
   "outputs": [],
   "source": [
    "from generate_summary_data import generate_summary_data_dict"
   ]
  },
  {
   "cell_type": "code",
   "execution_count": 2,
   "metadata": {
    "tags": []
   },
   "outputs": [
    {
     "output_type": "stream",
     "name": "stdout",
     "text": [
      "looping over OD data\n",
      "0\n",
      "100\n",
      "200\n",
      "300\n",
      "400\n",
      "500\n",
      "600\n",
      "700\n",
      "800\n",
      "900\n",
      "looping over OD data\n",
      "0\n",
      "100\n",
      "200\n",
      "300\n",
      "400\n",
      "500\n",
      "600\n",
      "700\n",
      "800\n",
      "900\n",
      "looping over OD data\n",
      "0\n",
      "100\n",
      "200\n",
      "300\n",
      "400\n",
      "500\n",
      "600\n",
      "700\n",
      "800\n",
      "900\n"
     ]
    }
   ],
   "source": [
    "generate_summary_data_dict(r\"H:\\Shared drives\\Pandemic Data\\slf_model\\outputs\\slf_scenarios\")"
   ]
  },
  {
   "cell_type": "code",
   "execution_count": 1,
   "metadata": {},
   "outputs": [
    {
     "output_type": "execute_result",
     "data": {
      "text/plain": [
       "dict_keys(['BAU_6801-6804', 'stopTrade_CHN_2009_6801-6804', 'stopTrade_CHN_KOR_JPN_2009_6801-6804', 'stopTrade_CHN_KOR_JPN_ITA_TUR_2009_6801-6804'])"
      ]
     },
     "metadata": {},
     "execution_count": 1
    }
   ],
   "source": [
    "import pickle\n",
    "filepath = r\"H:\\Shared drives\\Pandemic Data\\slf_model\\outputs\\old_trade\\slf_gamma4-1_alpha0.194_lamda3.2_hiiMask16_phyto0.3-0.8_wTWN\"\n",
    "\n",
    "viz_data_path = os.path.join(filepath, \"summary_data\")\n",
    "\n",
    "summary_data = pickle.load(open(os.path.join(viz_data_path, \"summary_data.p\"), \"rb\"))\n",
    "summary_data.keys()"
   ]
  },
  {
   "cell_type": "code",
   "execution_count": 2,
   "metadata": {},
   "outputs": [
    {
     "output_type": "execute_result",
     "data": {
      "text/plain": [
       "{'SWE': 'Proportion of First Introduction Countries:<br> China : 3<br> Germany : 1<br> Mean First Intro: 2021.75'}"
      ]
     },
     "metadata": {},
     "execution_count": 2
    }
   ],
   "source": [
    "summary_data['stopTrade_CHN_2009_6801-6804'][\"cartographic\"][\"labels\"]\n"
   ]
  },
  {
   "cell_type": "code",
   "execution_count": null,
   "metadata": {},
   "outputs": [],
   "source": []
  }
 ]
}