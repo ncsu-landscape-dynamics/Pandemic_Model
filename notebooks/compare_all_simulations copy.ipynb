{
 "cells": [
  {
   "cell_type": "code",
   "execution_count": 1,
   "id": "exposed-france",
   "metadata": {},
   "outputs": [],
   "source": [
    "import os\n",
    "import glob\n",
    "import math\n",
    "import matplotlib\n",
    "import matplotlib.pyplot as plt\n",
    "import matplotlib.image as mpimg\n",
    "from matplotlib.backends.backend_pdf import PdfPages"
   ]
  },
  {
   "cell_type": "code",
   "execution_count": 2,
   "id": "qualified-intention",
   "metadata": {},
   "outputs": [],
   "source": [
    "outputs_dir = f\"H:/Shared drives/Pandemic Data/outputs/slf/\""
   ]
  },
  {
   "cell_type": "code",
   "execution_count": 6,
   "id": "selective-employee",
   "metadata": {},
   "outputs": [],
   "source": [
    "viz_names = []\n",
    "for f in glob.glob(outputs_dir + '*wTWN*/*.png'):\n",
    "    bn = os.path.splitext(os.path.basename(f))[0]\n",
    "    if bn not in viz_names:\n",
    "        viz_names.append(bn)"
   ]
  },
  {
   "cell_type": "code",
   "execution_count": 9,
   "id": "average-pioneer",
   "metadata": {},
   "outputs": [
    {
     "name": "stdout",
     "output_type": "stream",
     "text": [
      "United States_intro_sources\n",
      "num_reintros\n",
      "first_intros_mean\n",
      "first_intros_mode\n",
      "first_intros_min\n",
      "first_intros_max\n",
      "first_intros_range\n",
      "intro_proportion\n",
      "first_intro_min_more50pct\n",
      "first_intro_mean_more50pct\n",
      "intro_proportion_more50pct\n"
     ]
    },
    {
     "data": {
      "image/png": "[encoded data removed]",
      "text/plain": [
       "<Figure size 432x288 with 1 Axes>"
      ]
     },
     "metadata": {
      "needs_background": "light"
     },
     "output_type": "display_data"
    }
   ],
   "source": [
    "for viz_name in viz_names:\n",
    "    print(viz_name)\n",
    "    imgs_to_view = sorted(glob.glob(outputs_dir + f\"/*wTWN*/{viz_name}.png\"))\n",
    "    \n",
    "    with PdfPages(outputs_dir + f\"{viz_name}_wTWN_agg.pdf\") as pdf:\n",
    "         for i, img_path in enumerate(imgs_to_view):\n",
    "            img = mpimg.imread(img_path)\n",
    "            plt.axis('off')\n",
    "            plt.figure(figsize=(16,16))\n",
    "            plt.imshow(img)\n",
    "            pdf.savefig()\n",
    "            plt.close()    "
   ]
  },
  {
   "cell_type": "code",
   "execution_count": null,
   "id": "chubby-hacker",
   "metadata": {},
   "outputs": [],
   "source": []
  }
 ],
 "metadata": {
  "kernelspec": {
   "display_name": "py37_geo",
   "language": "python",
   "name": "py37_geo"
  },
  "language_info": {
   "codemirror_mode": {
    "name": "ipython",
    "version": 3
   },
   "file_extension": ".py",
   "mimetype": "text/x-python",
   "name": "python",
   "nbconvert_exporter": "python",
   "pygments_lexer": "ipython3",
   "version": "3.7.9"
  }
 },
 "nbformat": 4,
 "nbformat_minor": 5
}
